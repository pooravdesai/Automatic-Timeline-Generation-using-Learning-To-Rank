{
 "cells": [
  {
   "cell_type": "code",
   "execution_count": 128,
   "metadata": {},
   "outputs": [],
   "source": [
    "import numpy as np\n",
    "import os\n",
    "import datetime\n",
    "import pickle\n",
    "from functools import cmp_to_key\n",
    "\n",
    "from sklearn.model_selection import train_test_split\n",
    "\n",
    "\n",
    "from sklearn.linear_model import LogisticRegression\n",
    "\n",
    "from sklearn.svm import SVC\n",
    "from sklearn.svm import NuSVC\n",
    "\n",
    "from sklearn.ensemble import RandomForestClassifier\n",
    "\n",
    "from sklearn.neighbors import KNeighborsClassifier\n",
    "\n",
    "from sklearn.neural_network import MLPClassifier\n"
   ]
  },
  {
   "cell_type": "code",
   "execution_count": 8,
   "metadata": {},
   "outputs": [],
   "source": [
    "with open(\"sample (2).pkl\",\"rb\") as f:\n",
    "    data = pickle.load(f)"
   ]
  },
  {
   "cell_type": "code",
   "execution_count": 3,
   "metadata": {},
   "outputs": [],
   "source": [
    "def getyi(date_i,date_j):\n",
    "    if date_i < date_j:\n",
    "        return 1\n",
    "    else:\n",
    "        return 0"
   ]
  },
  {
   "cell_type": "code",
   "execution_count": 9,
   "metadata": {},
   "outputs": [],
   "source": [
    "def generateYandX(data,date):\n",
    "    X=np.empty((0,data.shape[1]*2))\n",
    "    Y=np.empty((0,1))\n",
    "    #print(data.shape)\n",
    "    for i in range(data.shape[0]):\n",
    "        for j in range(data.shape[0]):\n",
    "            if i!=j and i<j:\n",
    "                yi=getyi(date[i],date[j])\n",
    "                Y=np.append(Y,yi)\n",
    "                point=np.append(data[i],data[j])\n",
    "                point=point.reshape(1,point.shape[0])\n",
    "                X=np.concatenate((X,point))   \n",
    "    return X ,Y "
   ]
  },
  {
   "cell_type": "code",
   "execution_count": 25,
   "metadata": {},
   "outputs": [
    {
     "name": "stdout",
     "output_type": "stream",
     "text": [
      "(300, 400)\n",
      "(300,)\n",
      "(36, 400)\n",
      "(36,)\n"
     ]
    }
   ],
   "source": [
    "# data=np.array([[2,4,5],[3,5,7],[1,5,7],[2,5,8],[12,14,14]])\n",
    "# date=np.array([\"2:4:20\",\"5:7:19\",\"8:1:18\",\"3:5:19\",\"4:6:23\"])\n",
    "\n",
    "# path_to_data = os.getcwd()+\"/IR_Project/\"\n",
    "dates = []\n",
    "for doc in sorted(os.listdir(os.getcwd()+\"/Temp\")):\n",
    "    with open(os.getcwd()+\"/Text1/\"+doc,\"r\") as f:\n",
    "        doc_date = f.read()\n",
    "        doc_date = doc_date[:doc_date.split(\" \")[0].rfind(\"+\")]\n",
    "        d = datetime.datetime.strptime(doc_date, \"%Y-%m-%dT%H:%M:%S\")\n",
    "        dates.append(d)\n",
    "\n",
    "ind = int(data.shape[0]*0.75)\n",
    "# print(type(dates))\n",
    "X_train, X_test, y_train, y_test = data[:ind,:], data[ind:, :], dates[:ind], dates[ind:]\n",
    "X_train_pairs, y_train_pairs = generateYandX(X_train, y_train)\n",
    "X_test_pairs, y_test_pairs = generateYandX(X_test, y_test)\n",
    "print(X_train_pairs.shape)\n",
    "print(y_train_pairs.shape)\n",
    "print(X_test_pairs.shape)\n",
    "print(y_test_pairs.shape)\n",
    "\n",
    "#Train test split\n",
    "# X_train, X_test, y_train, y_test = train_test_split(data, dates, test_size=0.2, random_state=42)\n",
    "# print(X_train.shape)\n",
    "# print(X_test.shape)\n",
    "\n",
    "\n",
    "# mlp = MLPClassifier((20,))\n",
    "# mlp.fit(X_train_pairs, y_train_pairs)"
   ]
  },
  {
   "cell_type": "markdown",
   "metadata": {},
   "source": [
    "<h3>Models For Learning</h3>"
   ]
  },
  {
   "cell_type": "code",
   "execution_count": 1,
   "metadata": {},
   "outputs": [],
   "source": []
  },
  {
   "cell_type": "code",
   "execution_count": 58,
   "metadata": {},
   "outputs": [
    {
     "name": "stdout",
     "output_type": "stream",
     "text": [
      "train acc:  0.9333333333333333\n",
      "test acc:  0.5\n"
     ]
    },
    {
     "name": "stderr",
     "output_type": "stream",
     "text": [
      "C:\\ProgramData\\Anaconda3\\lib\\site-packages\\sklearn\\linear_model\\logistic.py:432: FutureWarning: Default solver will be changed to 'lbfgs' in 0.22. Specify a solver to silence this warning.\n",
      "  FutureWarning)\n"
     ]
    }
   ],
   "source": [
    "#Logistic Regression\n",
    "#Model\n",
    "lg=LogisticRegression(random_state=0).fit(X_train_pairs,y_train_pairs)\n",
    "\n",
    "#Predictiona and accuracy\n",
    "y_pred_train = lg.predict(X_train_pairs)\n",
    "print(\"train acc: \", np.sum(y_pred_train == y_train_pairs)/len(y_pred_train))\n",
    "y_pred_test = lg.predict(X_test_pairs)\n",
    "print(\"test acc: \",np.sum(y_pred_test == y_test_pairs)/len(y_pred_test))\n",
    "\n"
   ]
  },
  {
   "cell_type": "code",
   "execution_count": 59,
   "metadata": {
    "scrolled": true
   },
   "outputs": [
    {
     "name": "stdout",
     "output_type": "stream",
     "text": [
      "train acc:  0.9233333333333333\n",
      "test acc:  0.5555555555555556\n"
     ]
    },
    {
     "name": "stderr",
     "output_type": "stream",
     "text": [
      "C:\\ProgramData\\Anaconda3\\lib\\site-packages\\sklearn\\svm\\base.py:193: FutureWarning: The default value of gamma will change from 'auto' to 'scale' in version 0.22 to account better for unscaled features. Set gamma explicitly to 'auto' or 'scale' to avoid this warning.\n",
      "  \"avoid this warning.\", FutureWarning)\n"
     ]
    }
   ],
   "source": [
    "#SVM\n",
    "#Model\n",
    "svm1 = SVC(C=100).fit(X_train_pairs, y_train_pairs)\n",
    "\n",
    "#Predictiona and accuracy\n",
    "y_pred_train_svm = svm1.predict(X_train_pairs)\n",
    "print(\"train acc: \", np.sum(y_pred_train_svm == y_train_pairs)/len(y_pred_train_svm))\n",
    "y_pred_test_svm = svm1.predict(X_test_pairs)\n",
    "print(\"test acc: \",np.sum(y_pred_test_svm == y_test_pairs)/len(y_pred_test_svm))"
   ]
  },
  {
   "cell_type": "code",
   "execution_count": 81,
   "metadata": {},
   "outputs": [
    {
     "name": "stdout",
     "output_type": "stream",
     "text": [
      "train acc:  0.9133333333333333\n",
      "test acc:  0.5555555555555556\n"
     ]
    },
    {
     "name": "stderr",
     "output_type": "stream",
     "text": [
      "C:\\ProgramData\\Anaconda3\\lib\\site-packages\\sklearn\\svm\\base.py:193: FutureWarning: The default value of gamma will change from 'auto' to 'scale' in version 0.22 to account better for unscaled features. Set gamma explicitly to 'auto' or 'scale' to avoid this warning.\n",
      "  \"avoid this warning.\", FutureWarning)\n"
     ]
    }
   ],
   "source": [
    "#NuSVC\n",
    "#Model\n",
    "nsvc=NuSVC().fit(X_train_pairs, y_train_pairs)\n",
    "\n",
    "#Predictiona and accuracy\n",
    "y_pred_train_nsvc = nsvc.predict(X_train_pairs)\n",
    "print(\"train acc: \", np.sum(y_pred_train_nsvc == y_train_pairs)/len(y_pred_train_nsvc))\n",
    "y_pred_test_nsvc = nsvc.predict(X_test_pairs)\n",
    "print(\"test acc: \",np.sum(y_pred_test_nsvc == y_test_pairs)/len(y_pred_test_nsvc))"
   ]
  },
  {
   "cell_type": "code",
   "execution_count": 112,
   "metadata": {},
   "outputs": [
    {
     "name": "stdout",
     "output_type": "stream",
     "text": [
      "train acc:  0.9966666666666667\n",
      "test acc:  0.4444444444444444\n"
     ]
    }
   ],
   "source": [
    "#Random Forest\n",
    "#Model\n",
    "rf=RandomForestClassifier(n_estimators=50,max_depth=10).fit(X_train_pairs, y_train_pairs)\n",
    "\n",
    "#Predictiona and accuracy\n",
    "y_pred_train_rf = rf.predict(X_train_pairs)\n",
    "print(\"train acc: \", np.sum(y_pred_train_rf == y_train_pairs)/len(y_pred_train_rf))\n",
    "y_pred_test_rf = rf.predict(X_test_pairs)\n",
    "print(\"test acc: \",np.sum(y_pred_test_rf == y_test_pairs)/len(y_pred_test_rf))"
   ]
  },
  {
   "cell_type": "code",
   "execution_count": 142,
   "metadata": {},
   "outputs": [
    {
     "name": "stdout",
     "output_type": "stream",
     "text": [
      "train acc:  0.71\n",
      "test acc:  0.6111111111111112\n"
     ]
    }
   ],
   "source": [
    "#KNN\n",
    "#Model\n",
    "knn=KNeighborsClassifier(n_neighbors=7).fit(X_train_pairs, y_train_pairs)\n",
    "\n",
    "#Predictiona and accuracy\n",
    "y_pred_train_knn = knn.predict(X_train_pairs)\n",
    "print(\"train acc: \", np.sum(y_pred_train_knn == y_train_pairs)/len(y_pred_train_knn))\n",
    "y_pred_test_knn = knn.predict(X_test_pairs)\n",
    "print(\"test acc: \",np.sum(y_pred_test_knn == y_test_pairs)/len(y_pred_test_knn))"
   ]
  },
  {
   "cell_type": "markdown",
   "metadata": {},
   "source": [
    "<h3>Ranking</h3>"
   ]
  },
  {
   "cell_type": "code",
   "execution_count": 32,
   "metadata": {},
   "outputs": [],
   "source": [
    "with open(\"Dict_vec_names (1).pkl\",\"rb\") as f:\n",
    "    tuple1 = pickle.load(f)"
   ]
  },
  {
   "cell_type": "code",
   "execution_count": null,
   "metadata": {
    "scrolled": true
   },
   "outputs": [],
   "source": [
    "for tup in tuple1:\n",
    "    print(tup[0])"
   ]
  },
  {
   "cell_type": "code",
   "execution_count": 151,
   "metadata": {},
   "outputs": [],
   "source": [
    "def greater(d1, d2):\n",
    "    v1 = np.append(d1[1],d2[1])\n",
    "    v1.shape = 1, v1.shape[0]\n",
    "    if knn.predict(v1) == 1:\n",
    "        return -1\n",
    "    else:\n",
    "        return 1\n",
    "\n",
    "test_tuple1 = tuple1[ind:]\n",
    "test_tuple1_sorted=sorted(test_tuple1, key=cmp_to_key(greater))"
   ]
  },
  {
   "cell_type": "code",
   "execution_count": null,
   "metadata": {
    "scrolled": true
   },
   "outputs": [],
   "source": [
    "for tup in test_tuple1_sorted:\n",
    "    print(tup[0])"
   ]
  },
  {
   "cell_type": "code",
   "execution_count": null,
   "metadata": {
    "scrolled": true
   },
   "outputs": [],
   "source": [
    "actual = []\n",
    "path1 = os.getcwd()+\"/Text1/\"\n",
    "for doc in sorted(os.listdir(path1)):\n",
    "    if doc not in os.listdir(os.getcwd()+\"/Temp\"): continue\n",
    "    with open(path1+doc,\"r\") as f:\n",
    "        doc_date = f.read()\n",
    "        doc_date = doc_date[:doc_date.split(\" \")[0].rfind(\"+\")]\n",
    "        d = datetime.datetime.strptime(doc_date, \"%Y-%m-%dT%H:%M:%S\")\n",
    "        actual.append((doc, d))\n",
    "\n",
    "actual"
   ]
  },
  {
   "cell_type": "code",
   "execution_count": 71,
   "metadata": {},
   "outputs": [],
   "source": [
    "test_actual = actual[ind:]\n",
    "test_actual_sorted = sorted(test_actual, key=lambda x: x[1])"
   ]
  },
  {
   "cell_type": "code",
   "execution_count": null,
   "metadata": {
    "scrolled": true
   },
   "outputs": [],
   "source": [
    "for doc in test_actual_sorted:\n",
    "    print(doc[0])"
   ]
  },
  {
   "cell_type": "code",
   "execution_count": 73,
   "metadata": {},
   "outputs": [
    {
     "name": "stdout",
     "output_type": "stream",
     "text": [
      "9\n"
     ]
    }
   ],
   "source": [
    "test_tuple1_sorted, test_actual_sorted\n",
    "print(len(test_actual_sorted))"
   ]
  },
  {
   "cell_type": "code",
   "execution_count": 74,
   "metadata": {},
   "outputs": [
    {
     "name": "stdout",
     "output_type": "stream",
     "text": [
      "[9, 8, 7, 6, 5, 4, 3, 2, 1]\n"
     ]
    }
   ],
   "source": [
    "rank = [i for i in range(len(test_actual_sorted),0,-1)]\n",
    "print(rank)"
   ]
  },
  {
   "cell_type": "code",
   "execution_count": null,
   "metadata": {
    "scrolled": true
   },
   "outputs": [],
   "source": [
    "Dict_score={}\n",
    "rank = [i for i in range(len(test_actual_sorted),0,-1)]\n",
    "for i in range(0,len(test_actual_sorted)):\n",
    "    Dict_score.update({test_actual_sorted[i][0]:rank[i]})\n",
    "print(Dict_score)"
   ]
  },
  {
   "cell_type": "code",
   "execution_count": 76,
   "metadata": {},
   "outputs": [
    {
     "name": "stdout",
     "output_type": "stream",
     "text": [
      "36.67698668313871\n"
     ]
    }
   ],
   "source": [
    "import numpy as np\n",
    "IDCG=0\n",
    "i=1\n",
    "for item in test_actual_sorted:\n",
    "    temp=Dict_score.get(item[0])\n",
    "    temp=temp/np.log(i+1)\n",
    "    i=i+1\n",
    "    IDCG=IDCG+temp\n",
    "\n",
    "print(IDCG)\n",
    "    "
   ]
  },
  {
   "cell_type": "code",
   "execution_count": 126,
   "metadata": {},
   "outputs": [
    {
     "name": "stdout",
     "output_type": "stream",
     "text": [
      "25.964888932431634\n"
     ]
    }
   ],
   "source": [
    "DCG=0\n",
    "i=1\n",
    "for item in test_tuple1_sorted:\n",
    "    temp=Dict_score.get(item[0])\n",
    "    temp=temp/np.log(i+1)\n",
    "    i=i+1\n",
    "    DCG=DCG+temp\n",
    "\n",
    "print(DCG)\n",
    "    "
   ]
  },
  {
   "cell_type": "code",
   "execution_count": 127,
   "metadata": {},
   "outputs": [
    {
     "name": "stdout",
     "output_type": "stream",
     "text": [
      "0.7079340829373073\n"
     ]
    }
   ],
   "source": [
    "print(DCG/IDCG)"
   ]
  },
  {
   "cell_type": "code",
   "execution_count": 10,
   "metadata": {},
   "outputs": [
    {
     "data": {
      "image/png": "[encoded data removed]",
      "text/plain": [
       "<Figure size 576x288 with 1 Axes>"
      ]
     },
     "metadata": {
      "needs_background": "light"
     },
     "output_type": "display_data"
    }
   ],
   "source": [
    "import matplotlib.pyplot as plt\n",
    "\n",
    "models=['logistic','SVM','NuSVM','RandomForest','KNN']\n",
    "train_acc=[0.933,0.923,0.913,0.99,0.71]\n",
    "test_acc=[0.50,0.55,0.55,0.44,0.61]\n",
    "\n",
    "fig = plt.figure(figsize = (8, 4)) \n",
    "  \n",
    "# creating the bar plot \n",
    "plt.bar(models, test_acc, color ='maroon', width = 0.4) \n",
    "plt.ylim(0.0,1.0)\n",
    "plt.xlabel(\"Machine Learning Models\") \n",
    "plt.ylabel(\"Accuracy\") \n",
    "plt.title(\"Testing accuracy of models\") \n",
    "plt.show()"
   ]
  }
 ],
 "metadata": {
  "kernelspec": {
   "display_name": "Python 3",
   "language": "python",
   "name": "python3"
  },
  "language_info": {
   "codemirror_mode": {
    "name": "ipython",
    "version": 3
   },
   "file_extension": ".py",
   "mimetype": "text/x-python",
   "name": "python",
   "nbconvert_exporter": "python",
   "pygments_lexer": "ipython3",
   "version": "3.6.4"
  }
 },
 "nbformat": 4,
 "nbformat_minor": 2
}
